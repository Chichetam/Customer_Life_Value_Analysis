{
 "cells": [
  {
   "cell_type": "code",
   "execution_count": 135,
   "id": "53897061-c736-44a0-9b94-948cc1627387",
   "metadata": {},
   "outputs": [
    {
     "data": {
      "text/html": [
       "<div>\n",
       "<style scoped>\n",
       "    .dataframe tbody tr th:only-of-type {\n",
       "        vertical-align: middle;\n",
       "    }\n",
       "\n",
       "    .dataframe tbody tr th {\n",
       "        vertical-align: top;\n",
       "    }\n",
       "\n",
       "    .dataframe thead th {\n",
       "        text-align: right;\n",
       "    }\n",
       "</style>\n",
       "<table border=\"1\" class=\"dataframe\">\n",
       "  <thead>\n",
       "    <tr style=\"text-align: right;\">\n",
       "      <th></th>\n",
       "      <th>Customer_ID</th>\n",
       "      <th>gender</th>\n",
       "      <th>Partner</th>\n",
       "      <th>Dependents</th>\n",
       "      <th>Senior_Citizen</th>\n",
       "      <th>Call_Duration</th>\n",
       "      <th>Data_Usage</th>\n",
       "      <th>Plan_Type</th>\n",
       "      <th>Plan_Level</th>\n",
       "      <th>Monthly_Bill_Amount</th>\n",
       "      <th>Tenure_Months</th>\n",
       "      <th>Multiple_Lines</th>\n",
       "      <th>Tech_Support</th>\n",
       "      <th>Churn</th>\n",
       "    </tr>\n",
       "  </thead>\n",
       "  <tbody>\n",
       "    <tr>\n",
       "      <th>0</th>\n",
       "      <td>NSat2001</td>\n",
       "      <td>Female</td>\n",
       "      <td>Yes</td>\n",
       "      <td>No</td>\n",
       "      <td>0</td>\n",
       "      <td>156</td>\n",
       "      <td>8.36</td>\n",
       "      <td>Prepaid</td>\n",
       "      <td>Premium</td>\n",
       "      <td>126.00</td>\n",
       "      <td>44</td>\n",
       "      <td>Yes</td>\n",
       "      <td>Yes</td>\n",
       "      <td>0</td>\n",
       "    </tr>\n",
       "    <tr>\n",
       "      <th>1</th>\n",
       "      <td>NSat2002</td>\n",
       "      <td>Male</td>\n",
       "      <td>No</td>\n",
       "      <td>No</td>\n",
       "      <td>0</td>\n",
       "      <td>383</td>\n",
       "      <td>5.35</td>\n",
       "      <td>Prepaid</td>\n",
       "      <td>Basic</td>\n",
       "      <td>80.00</td>\n",
       "      <td>7</td>\n",
       "      <td>No</td>\n",
       "      <td>No</td>\n",
       "      <td>1</td>\n",
       "    </tr>\n",
       "    <tr>\n",
       "      <th>2</th>\n",
       "      <td>NSat2003</td>\n",
       "      <td>Male</td>\n",
       "      <td>No</td>\n",
       "      <td>No</td>\n",
       "      <td>0</td>\n",
       "      <td>407</td>\n",
       "      <td>3.04</td>\n",
       "      <td>Postpaid</td>\n",
       "      <td>Premium</td>\n",
       "      <td>314.80</td>\n",
       "      <td>15</td>\n",
       "      <td>Yes</td>\n",
       "      <td>Yes</td>\n",
       "      <td>1</td>\n",
       "    </tr>\n",
       "    <tr>\n",
       "      <th>3</th>\n",
       "      <td>NSat2004</td>\n",
       "      <td>Male</td>\n",
       "      <td>No</td>\n",
       "      <td>No</td>\n",
       "      <td>0</td>\n",
       "      <td>106</td>\n",
       "      <td>1.20</td>\n",
       "      <td>Prepaid</td>\n",
       "      <td>Premium</td>\n",
       "      <td>126.00</td>\n",
       "      <td>38</td>\n",
       "      <td>Yes</td>\n",
       "      <td>Yes</td>\n",
       "      <td>0</td>\n",
       "    </tr>\n",
       "    <tr>\n",
       "      <th>4</th>\n",
       "      <td>NSat2005</td>\n",
       "      <td>Female</td>\n",
       "      <td>No</td>\n",
       "      <td>No</td>\n",
       "      <td>0</td>\n",
       "      <td>124</td>\n",
       "      <td>5.63</td>\n",
       "      <td>Postpaid</td>\n",
       "      <td>Premium</td>\n",
       "      <td>97.95</td>\n",
       "      <td>17</td>\n",
       "      <td>Yes</td>\n",
       "      <td>Yes</td>\n",
       "      <td>1</td>\n",
       "    </tr>\n",
       "  </tbody>\n",
       "</table>\n",
       "</div>"
      ],
      "text/plain": [
       "  Customer_ID  gender Partner Dependents  Senior_Citizen  Call_Duration  \\\n",
       "0    NSat2001  Female     Yes         No               0            156   \n",
       "1    NSat2002    Male      No         No               0            383   \n",
       "2    NSat2003    Male      No         No               0            407   \n",
       "3    NSat2004    Male      No         No               0            106   \n",
       "4    NSat2005  Female      No         No               0            124   \n",
       "\n",
       "   Data_Usage Plan_Type Plan_Level  Monthly_Bill_Amount  Tenure_Months  \\\n",
       "0        8.36   Prepaid    Premium               126.00             44   \n",
       "1        5.35   Prepaid      Basic                80.00              7   \n",
       "2        3.04  Postpaid    Premium               314.80             15   \n",
       "3        1.20   Prepaid    Premium               126.00             38   \n",
       "4        5.63  Postpaid    Premium                97.95             17   \n",
       "\n",
       "  Multiple_Lines Tech_Support  Churn  \n",
       "0            Yes          Yes      0  \n",
       "1             No           No      1  \n",
       "2            Yes          Yes      1  \n",
       "3            Yes          Yes      0  \n",
       "4            Yes          Yes      1  "
      ]
     },
     "execution_count": 135,
     "metadata": {},
     "output_type": "execute_result"
    }
   ],
   "source": [
    "import pandas as pd\n",
    "import statsmodels.api as sm\n",
    "\n",
    "# Load the dataset\n",
    "df = pd.read_csv(\"NexaSat_data.csv\")  # Update with your actual file path\n",
    "\n",
    "df.head()"
   ]
  },
  {
   "cell_type": "code",
   "execution_count": 137,
   "id": "5186f687-490a-4b62-af82-732a9cc1a9f6",
   "metadata": {},
   "outputs": [
    {
     "name": "stdout",
     "output_type": "stream",
     "text": [
      "['Customer_ID', 'gender', 'Partner', 'Dependents', 'Senior_Citizen', 'Call_Duration', 'Data_Usage', 'Plan_Type', 'Plan_Level', 'Monthly_Bill_Amount', 'Tenure_Months', 'Multiple_Lines', 'Tech_Support', 'Churn']\n"
     ]
    }
   ],
   "source": [
    "column_names = df.columns.tolist()\n",
    "\n",
    "# Print the column names\n",
    "print(column_names)"
   ]
  },
  {
   "cell_type": "code",
   "execution_count": 117,
   "id": "8d5e21e9-fd48-4142-a0ef-52f578360be4",
   "metadata": {},
   "outputs": [
    {
     "data": {
      "text/html": [
       "<div>\n",
       "<style scoped>\n",
       "    .dataframe tbody tr th:only-of-type {\n",
       "        vertical-align: middle;\n",
       "    }\n",
       "\n",
       "    .dataframe tbody tr th {\n",
       "        vertical-align: top;\n",
       "    }\n",
       "\n",
       "    .dataframe thead th {\n",
       "        text-align: right;\n",
       "    }\n",
       "</style>\n",
       "<table border=\"1\" class=\"dataframe\">\n",
       "  <thead>\n",
       "    <tr style=\"text-align: right;\">\n",
       "      <th></th>\n",
       "      <th>Senior_Citizen</th>\n",
       "      <th>Call_Duration</th>\n",
       "      <th>Data_Usage</th>\n",
       "      <th>Monthly_Bill_Amount</th>\n",
       "      <th>Tenure_Months</th>\n",
       "      <th>Multiple_Lines</th>\n",
       "      <th>Tech_Support</th>\n",
       "      <th>Churn</th>\n",
       "      <th>gender_Male</th>\n",
       "      <th>Partner_Yes</th>\n",
       "      <th>Dependents_Yes</th>\n",
       "      <th>Plan_Type_Prepaid</th>\n",
       "      <th>Plan_Level_Premium</th>\n",
       "    </tr>\n",
       "  </thead>\n",
       "  <tbody>\n",
       "    <tr>\n",
       "      <th>0</th>\n",
       "      <td>0</td>\n",
       "      <td>156</td>\n",
       "      <td>8.36</td>\n",
       "      <td>126.00</td>\n",
       "      <td>44</td>\n",
       "      <td>Yes</td>\n",
       "      <td>Yes</td>\n",
       "      <td>0</td>\n",
       "      <td>False</td>\n",
       "      <td>True</td>\n",
       "      <td>False</td>\n",
       "      <td>True</td>\n",
       "      <td>True</td>\n",
       "    </tr>\n",
       "    <tr>\n",
       "      <th>1</th>\n",
       "      <td>0</td>\n",
       "      <td>383</td>\n",
       "      <td>5.35</td>\n",
       "      <td>80.00</td>\n",
       "      <td>7</td>\n",
       "      <td>No</td>\n",
       "      <td>No</td>\n",
       "      <td>1</td>\n",
       "      <td>True</td>\n",
       "      <td>False</td>\n",
       "      <td>False</td>\n",
       "      <td>True</td>\n",
       "      <td>False</td>\n",
       "    </tr>\n",
       "    <tr>\n",
       "      <th>2</th>\n",
       "      <td>0</td>\n",
       "      <td>407</td>\n",
       "      <td>3.04</td>\n",
       "      <td>314.80</td>\n",
       "      <td>15</td>\n",
       "      <td>Yes</td>\n",
       "      <td>Yes</td>\n",
       "      <td>1</td>\n",
       "      <td>True</td>\n",
       "      <td>False</td>\n",
       "      <td>False</td>\n",
       "      <td>False</td>\n",
       "      <td>True</td>\n",
       "    </tr>\n",
       "    <tr>\n",
       "      <th>3</th>\n",
       "      <td>0</td>\n",
       "      <td>106</td>\n",
       "      <td>1.20</td>\n",
       "      <td>126.00</td>\n",
       "      <td>38</td>\n",
       "      <td>Yes</td>\n",
       "      <td>Yes</td>\n",
       "      <td>0</td>\n",
       "      <td>True</td>\n",
       "      <td>False</td>\n",
       "      <td>False</td>\n",
       "      <td>True</td>\n",
       "      <td>True</td>\n",
       "    </tr>\n",
       "    <tr>\n",
       "      <th>4</th>\n",
       "      <td>0</td>\n",
       "      <td>124</td>\n",
       "      <td>5.63</td>\n",
       "      <td>97.95</td>\n",
       "      <td>17</td>\n",
       "      <td>Yes</td>\n",
       "      <td>Yes</td>\n",
       "      <td>1</td>\n",
       "      <td>False</td>\n",
       "      <td>False</td>\n",
       "      <td>False</td>\n",
       "      <td>False</td>\n",
       "      <td>True</td>\n",
       "    </tr>\n",
       "  </tbody>\n",
       "</table>\n",
       "</div>"
      ],
      "text/plain": [
       "   Senior_Citizen  Call_Duration  Data_Usage  Monthly_Bill_Amount  \\\n",
       "0               0            156        8.36               126.00   \n",
       "1               0            383        5.35                80.00   \n",
       "2               0            407        3.04               314.80   \n",
       "3               0            106        1.20               126.00   \n",
       "4               0            124        5.63                97.95   \n",
       "\n",
       "   Tenure_Months Multiple_Lines Tech_Support  Churn  gender_Male  Partner_Yes  \\\n",
       "0             44            Yes          Yes      0        False         True   \n",
       "1              7             No           No      1         True        False   \n",
       "2             15            Yes          Yes      1         True        False   \n",
       "3             38            Yes          Yes      0         True        False   \n",
       "4             17            Yes          Yes      1        False        False   \n",
       "\n",
       "   Dependents_Yes  Plan_Type_Prepaid  Plan_Level_Premium  \n",
       "0           False               True                True  \n",
       "1           False               True               False  \n",
       "2           False              False                True  \n",
       "3           False               True                True  \n",
       "4           False              False                True  "
      ]
     },
     "execution_count": 117,
     "metadata": {},
     "output_type": "execute_result"
    }
   ],
   "source": [
    "# Drop irrelevant columns\n",
    "df = df.drop(columns=['Customer_ID'])  # Unique identifier, not needed for regression\n",
    "\n",
    "# Convert categorical variables to dummy variables (one-hot encoding)\n",
    "df = pd.get_dummies(df, columns=['gender', 'Partner', 'Dependents', 'Plan_Type', 'Plan_Level'], drop_first=True)\n",
    "df.head()"
   ]
  },
  {
   "cell_type": "code",
   "execution_count": 119,
   "id": "b2a63875-b2ed-4a2e-b4df-cae714621fb4",
   "metadata": {},
   "outputs": [],
   "source": [
    "# Define independent variables (predictors)\n",
    "X = df[['Monthly_Bill_Amount', 'Tenure_Months', 'Call_Duration', 'Data_Usage', 'Senior_Citizen', \n",
    "        'Partner_Yes', 'Dependents_Yes', 'Plan_Type_Prepaid', 'Plan_Level_Premium']]"
   ]
  },
  {
   "cell_type": "code",
   "execution_count": 121,
   "id": "12ff8cb0-5e00-467c-97be-3050594da238",
   "metadata": {},
   "outputs": [],
   "source": [
    "# Define dependent variable (target)\n",
    "y = df['Churn']"
   ]
  },
  {
   "cell_type": "code",
   "execution_count": 123,
   "id": "36814720-cb03-4bff-acec-670bc3b3c7af",
   "metadata": {},
   "outputs": [],
   "source": [
    "# Add constant for intercept\n",
    "X = sm.add_constant(X)"
   ]
  },
  {
   "cell_type": "code",
   "execution_count": 125,
   "id": "f189ce63-4069-409f-87d7-db3766b6251a",
   "metadata": {},
   "outputs": [],
   "source": [
    "# Convert boolean columns to integers\n",
    "X['Partner_Yes'] = X['Partner_Yes'].astype(int)\n",
    "X['Dependents_Yes'] = X['Dependents_Yes'].astype(int)\n",
    "X['Plan_Type_Prepaid'] = X['Plan_Type_Prepaid'].astype(int)\n",
    "X['Plan_Level_Premium'] = X['Plan_Level_Premium'].astype(int)\n"
   ]
  },
  {
   "cell_type": "code",
   "execution_count": 127,
   "id": "3252d1e5-a916-44f6-878d-024d0ddf8a2d",
   "metadata": {},
   "outputs": [
    {
     "name": "stdout",
     "output_type": "stream",
     "text": [
      "const                  float64\n",
      "Monthly_Bill_Amount    float64\n",
      "Tenure_Months            int64\n",
      "Call_Duration            int64\n",
      "Data_Usage             float64\n",
      "Senior_Citizen           int64\n",
      "Partner_Yes              int32\n",
      "Dependents_Yes           int32\n",
      "Plan_Type_Prepaid        int32\n",
      "Plan_Level_Premium       int32\n",
      "dtype: object\n",
      "int64\n"
     ]
    }
   ],
   "source": [
    "print(X.dtypes)  # Check data types of features\n",
    "print(y.dtypes)"
   ]
  },
  {
   "cell_type": "code",
   "execution_count": 129,
   "id": "a02be3d4-c128-47ed-b589-e1520c5d599e",
   "metadata": {},
   "outputs": [
    {
     "name": "stdout",
     "output_type": "stream",
     "text": [
      "Optimization terminated successfully.\n",
      "         Current function value: 0.520712\n",
      "         Iterations 6\n"
     ]
    }
   ],
   "source": [
    "# Fit logistic regression model\n",
    "logit_model = sm.Logit(y, X)\n",
    "result = logit_model.fit()\n"
   ]
  },
  {
   "cell_type": "code",
   "execution_count": 131,
   "id": "9feaed0d-b172-415f-aa87-343542388acf",
   "metadata": {},
   "outputs": [
    {
     "name": "stdout",
     "output_type": "stream",
     "text": [
      "\n",
      "Percentage Weights for Feature Importance:\n",
      "const                   8.409274\n",
      "Monthly_Bill_Amount     0.020333\n",
      "Tenure_Months           0.058193\n",
      "Call_Duration           0.007675\n",
      "Data_Usage              1.843173\n",
      "Senior_Citizen          1.422539\n",
      "Partner_Yes             1.011496\n",
      "Dependents_Yes          2.375807\n",
      "Plan_Type_Prepaid      26.952671\n",
      "Plan_Level_Premium     57.898838\n",
      "dtype: float64\n"
     ]
    }
   ],
   "source": [
    "# Convert coefficients to absolute values for relative importance calculation\n",
    "abs_coefficients = result.params.abs()\n",
    "\n",
    "# Normalize to sum to 100% (relative importance)\n",
    "percentage_weights = (abs_coefficients / abs_coefficients.sum()) * 100\n",
    "\n",
    "# Print percentage weights\n",
    "print(\"\\nPercentage Weights for Feature Importance:\")\n",
    "print(percentage_weights)"
   ]
  },
  {
   "cell_type": "code",
   "execution_count": 133,
   "id": "28d36bcb-14e5-4f9f-bd1b-3a2f09bb0cbe",
   "metadata": {},
   "outputs": [
    {
     "name": "stdout",
     "output_type": "stream",
     "text": [
      "['Senior_Citizen', 'Call_Duration', 'Data_Usage', 'Monthly_Bill_Amount', 'Tenure_Months', 'Multiple_Lines', 'Tech_Support', 'Churn', 'gender_Male', 'Partner_Yes', 'Dependents_Yes', 'Plan_Type_Prepaid', 'Plan_Level_Premium']\n"
     ]
    }
   ],
   "source": [
    "column_names = df.columns.tolist()\n",
    "\n",
    "# Print the column names\n",
    "print(column_names)"
   ]
  },
  {
   "cell_type": "code",
   "execution_count": 9,
   "id": "e3e2e29f-e023-417f-955e-6a144fb599e7",
   "metadata": {},
   "outputs": [
    {
     "name": "stderr",
     "output_type": "stream",
     "text": [
      "C:\\Users\\pc1\\AppData\\Local\\Temp\\ipykernel_12940\\735665071.py:50: FutureWarning: \n",
      "\n",
      "Passing `palette` without assigning `hue` is deprecated and will be removed in v0.14.0. Assign the `y` variable to `hue` and set `legend=False` for the same effect.\n",
      "\n",
      "  sns.barplot(x='Random_Forest_Importance', y='Feature', data=importance_df, palette=\"Blues_r\")\n"
     ]
    },
    {
     "data": {
      "image/png": "[encoded data removed]",
      "text/plain": [
       "<Figure size 1000x600 with 1 Axes>"
      ]
     },
     "metadata": {},
     "output_type": "display_data"
    },
    {
     "name": "stdout",
     "output_type": "stream",
     "text": [
      "\n",
      "Feature Importance from Random Forest:\n",
      "               Feature  Decision_Tree_Importance  Random_Forest_Importance\n",
      "3           Data_Usage                  0.105473                  0.231167\n",
      "1        Tenure_Months                  0.215682                  0.193995\n",
      "2        Call_Duration                  0.007187                  0.186800\n",
      "8   Plan_Level_Premium                  0.628301                  0.166406\n",
      "0  Monthly_Bill_Amount                  0.002877                  0.155085\n",
      "7    Plan_Type_Prepaid                  0.033683                  0.021089\n",
      "5          Partner_Yes                  0.000000                  0.017276\n",
      "6       Dependents_Yes                  0.000000                  0.014189\n",
      "4       Senior_Citizen                  0.006798                  0.013993\n"
     ]
    }
   ],
   "source": [
    "import pandas as pd\n",
    "import numpy as np\n",
    "from sklearn.model_selection import train_test_split\n",
    "from sklearn.preprocessing import LabelEncoder\n",
    "from sklearn.tree import DecisionTreeClassifier\n",
    "from sklearn.ensemble import RandomForestClassifier\n",
    "import matplotlib.pyplot as plt\n",
    "import seaborn as sns\n",
    "\n",
    "# Load the dataset\n",
    "df = pd.read_csv(\"NexaSat_data.csv\")  # Update with your actual file path\n",
    "\n",
    "# Drop unique identifier\n",
    "df = df.drop(columns=['Customer_ID'])\n",
    "\n",
    "# Convert categorical variables to numerical\n",
    "df = pd.get_dummies(df, columns=['gender', 'Partner', 'Dependents', 'Plan_Type', 'Plan_Level'], drop_first=True)\n",
    "\n",
    "# Define independent variables (features)\n",
    "X = df[['Monthly_Bill_Amount', 'Tenure_Months', 'Call_Duration', 'Data_Usage', 'Senior_Citizen',\n",
    "        'Partner_Yes', 'Dependents_Yes', 'Plan_Type_Prepaid', 'Plan_Level_Premium']]\n",
    "\n",
    "# Define dependent variable (target)\n",
    "y = df['Churn']\n",
    "\n",
    "# Split into training and test sets (80/20 split)\n",
    "X_train, X_test, y_train, y_test = train_test_split(X, y, test_size=0.2, random_state=42)\n",
    "\n",
    "# Train Decision Tree Classifier\n",
    "dt_model = DecisionTreeClassifier(random_state=42, max_depth=5)\n",
    "dt_model.fit(X_train, y_train)\n",
    "\n",
    "# Train Random Forest Classifier\n",
    "rf_model = RandomForestClassifier(n_estimators=100, random_state=42)\n",
    "rf_model.fit(X_train, y_train)\n",
    "\n",
    "# Get feature importance\n",
    "dt_importance = dt_model.feature_importances_\n",
    "rf_importance = rf_model.feature_importances_\n",
    "\n",
    "# Convert to DataFrame for visualization\n",
    "importance_df = pd.DataFrame({\n",
    "    'Feature': X.columns,\n",
    "    'Decision_Tree_Importance': dt_importance,\n",
    "    'Random_Forest_Importance': rf_importance\n",
    "}).sort_values(by='Random_Forest_Importance', ascending=False)\n",
    "\n",
    "# Plot feature importance\n",
    "plt.figure(figsize=(10, 6))\n",
    "sns.barplot(x='Random_Forest_Importance', y='Feature', data=importance_df, palette=\"Blues_r\")\n",
    "plt.title(\"Feature Importance (Random Forest)\")\n",
    "plt.show()\n",
    "\n",
    "# Print feature importance\n",
    "print(\"\\nFeature Importance from Random Forest:\")\n",
    "print(importance_df)\n"
   ]
  },
  {
   "cell_type": "code",
   "execution_count": 11,
   "id": "aab9483b-5a38-46ad-ad9d-bdbab5e45808",
   "metadata": {},
   "outputs": [
    {
     "name": "stdout",
     "output_type": "stream",
     "text": [
      "               Feature  Percentage_Weight\n",
      "3           Data_Usage          23.116743\n",
      "1        Tenure_Months          19.399522\n",
      "2        Call_Duration          18.680002\n",
      "8   Plan_Level_Premium          16.640580\n",
      "0  Monthly_Bill_Amount          15.508503\n",
      "7    Plan_Type_Prepaid           2.108948\n",
      "5          Partner_Yes           1.727574\n",
      "6       Dependents_Yes           1.418878\n",
      "4       Senior_Citizen           1.399250\n"
     ]
    }
   ],
   "source": [
    "# Convert feature importance to percentage\n",
    "importance_values = importance_df['Random_Forest_Importance']\n",
    "importance_percent = (importance_values / importance_values.sum()) * 100\n",
    "\n",
    "# Add percentage to the DataFrame\n",
    "importance_df['Percentage_Weight'] = importance_percent\n",
    "\n",
    "# Display the results sorted by percentage weight\n",
    "importance_df = importance_df.sort_values(by='Percentage_Weight', ascending=False)\n",
    "\n",
    "print(importance_df[['Feature', 'Percentage_Weight']])\n"
   ]
  },
  {
   "cell_type": "code",
   "execution_count": null,
   "id": "975085d5-5357-4b19-8284-d8d61def418d",
   "metadata": {},
   "outputs": [],
   "source": []
  }
 ],
 "metadata": {
  "kernelspec": {
   "display_name": "Python 3 (ipykernel)",
   "language": "python",
   "name": "python3"
  },
  "language_info": {
   "codemirror_mode": {
    "name": "ipython",
    "version": 3
   },
   "file_extension": ".py",
   "mimetype": "text/x-python",
   "name": "python",
   "nbconvert_exporter": "python",
   "pygments_lexer": "ipython3",
   "version": "3.13.2"
  }
 },
 "nbformat": 4,
 "nbformat_minor": 5
}
